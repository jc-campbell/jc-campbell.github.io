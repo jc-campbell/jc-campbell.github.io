{
 "cells": [
  {
   "cell_type": "code",
   "execution_count": null,
   "metadata": {
    "vscode": {
     "languageId": "plaintext"
    }
   },
   "outputs": [],
   "source": [
    "import numpy as np\n",
    "import plotly.graph_objects as go\n",
    "\n",
    "# Define Normal distribution parameters\n",
    "mu, sigma = 0, 1  # Mean and standard deviation\n",
    "\n",
    "# Generate data points\n",
    "x = np.linspace(mu - 4*sigma, mu + 4*sigma, 1000)\n",
    "y = (1 / (sigma * np.sqrt(2 * np.pi))) * np.exp(-0.5 * ((x - mu) / sigma) ** 2)\n",
    "\n",
    "# Create the Plotly figure\n",
    "fig = go.Figure()\n",
    "fig.add_trace(go.Scatter(x=x, y=y, mode=\"lines\", name=\"Normal Distribution\"))\n",
    "\n",
    "# Customize the layout\n",
    "fig.update_layout(\n",
    "  title=\"Normal Distribution (μ=0, σ=1)\",\n",
    "  xaxis_title=\"x\",\n",
    "  yaxis_title=\"Density\",\n",
    "  template=\"plotly_white\"\n",
    ")\n",
    "\n",
    "# Save the figure as an HTML file\n",
    "fig.write_html(\"../plotly/distribution.html\")\n",
    "\n",
    "# Show the figure\n",
    "fig.show()"
   ]
  }
 ],
 "metadata": {
  "language_info": {
   "name": "python"
  }
 },
 "nbformat": 4,
 "nbformat_minor": 2
}
